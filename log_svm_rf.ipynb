{
 "cells": [
  {
   "cell_type": "code",
   "execution_count": 4,
   "metadata": {
    "scrolled": true
   },
   "outputs": [
    {
     "name": "stdout",
     "output_type": "stream",
     "text": [
      "<class 'pandas.core.frame.DataFrame'>\n",
      "RangeIndex: 891 entries, 0 to 890\n",
      "Data columns (total 7 columns):\n",
      "Survived       891 non-null int64\n",
      "Age            891 non-null float64\n",
      "Fare           891 non-null float64\n",
      "Pclass_3       891 non-null uint8\n",
      "Embarked_S     891 non-null uint8\n",
      "Sex_male       891 non-null uint8\n",
      "Family_size    891 non-null int64\n",
      "dtypes: float64(2), int64(2), uint8(3)\n",
      "memory usage: 30.5 KB\n",
      "\n",
      "\n",
      "<class 'pandas.core.frame.DataFrame'>\n",
      "RangeIndex: 418 entries, 0 to 417\n",
      "Data columns (total 6 columns):\n",
      "Age            418 non-null float64\n",
      "Fare           418 non-null float64\n",
      "Pclass_3       418 non-null uint8\n",
      "Embarked_S     418 non-null uint8\n",
      "Sex_male       418 non-null uint8\n",
      "Family_size    418 non-null int64\n",
      "dtypes: float64(2), int64(1), uint8(3)\n",
      "memory usage: 11.1 KB\n"
     ]
    },
    {
     "data": {
      "text/html": [
       "<div>\n",
       "<style scoped>\n",
       "    .dataframe tbody tr th:only-of-type {\n",
       "        vertical-align: middle;\n",
       "    }\n",
       "\n",
       "    .dataframe tbody tr th {\n",
       "        vertical-align: top;\n",
       "    }\n",
       "\n",
       "    .dataframe thead th {\n",
       "        text-align: right;\n",
       "    }\n",
       "</style>\n",
       "<table border=\"1\" class=\"dataframe\">\n",
       "  <thead>\n",
       "    <tr style=\"text-align: right;\">\n",
       "      <th></th>\n",
       "      <th>Survived</th>\n",
       "      <th>Age</th>\n",
       "      <th>Fare</th>\n",
       "      <th>Pclass_3</th>\n",
       "      <th>Embarked_S</th>\n",
       "      <th>Sex_male</th>\n",
       "      <th>Family_size</th>\n",
       "    </tr>\n",
       "  </thead>\n",
       "  <tbody>\n",
       "    <tr>\n",
       "      <th>0</th>\n",
       "      <td>0</td>\n",
       "      <td>22.0</td>\n",
       "      <td>7.2500</td>\n",
       "      <td>1</td>\n",
       "      <td>1</td>\n",
       "      <td>1</td>\n",
       "      <td>1</td>\n",
       "    </tr>\n",
       "    <tr>\n",
       "      <th>1</th>\n",
       "      <td>1</td>\n",
       "      <td>38.0</td>\n",
       "      <td>71.2833</td>\n",
       "      <td>0</td>\n",
       "      <td>0</td>\n",
       "      <td>0</td>\n",
       "      <td>1</td>\n",
       "    </tr>\n",
       "    <tr>\n",
       "      <th>2</th>\n",
       "      <td>1</td>\n",
       "      <td>26.0</td>\n",
       "      <td>7.9250</td>\n",
       "      <td>1</td>\n",
       "      <td>1</td>\n",
       "      <td>0</td>\n",
       "      <td>0</td>\n",
       "    </tr>\n",
       "    <tr>\n",
       "      <th>3</th>\n",
       "      <td>1</td>\n",
       "      <td>35.0</td>\n",
       "      <td>53.1000</td>\n",
       "      <td>0</td>\n",
       "      <td>1</td>\n",
       "      <td>0</td>\n",
       "      <td>1</td>\n",
       "    </tr>\n",
       "    <tr>\n",
       "      <th>4</th>\n",
       "      <td>0</td>\n",
       "      <td>35.0</td>\n",
       "      <td>8.0500</td>\n",
       "      <td>1</td>\n",
       "      <td>1</td>\n",
       "      <td>1</td>\n",
       "      <td>0</td>\n",
       "    </tr>\n",
       "  </tbody>\n",
       "</table>\n",
       "</div>"
      ],
      "text/plain": [
       "   Survived   Age     Fare  Pclass_3  Embarked_S  Sex_male  Family_size\n",
       "0         0  22.0   7.2500         1           1         1            1\n",
       "1         1  38.0  71.2833         0           0         0            1\n",
       "2         1  26.0   7.9250         1           1         0            0\n",
       "3         1  35.0  53.1000         0           1         0            1\n",
       "4         0  35.0   8.0500         1           1         1            0"
      ]
     },
     "execution_count": 4,
     "metadata": {},
     "output_type": "execute_result"
    }
   ],
   "source": [
    "import pandas as pd\n",
    "import numpy as np\n",
    "from sklearn.metrics import accuracy_score, classification_report, confusion_matrix\n",
    "\n",
    "\n",
    "df_train = pd.read_csv('all/train.csv')\n",
    "df_test = pd.read_csv('all/test.csv')\n",
    "\n",
    "#scaling\n",
    "from sklearn.preprocessing import StandardScaler\n",
    "def scaling(data):\n",
    "    scaler = StandardScaler()\n",
    "    scaler.fit(data)\n",
    "    features = scaler.transform(data)\n",
    "    return features\n",
    "\n",
    "def manipulate_data(data):\n",
    "    \n",
    "    data = data.drop(['PassengerId', 'Name', 'Cabin', 'Ticket'], axis=1)\n",
    "    data = pd.get_dummies(data, columns = ['Pclass','Embarked','Sex'],drop_first=True)\n",
    "\n",
    "    # fill missingdata\n",
    "    mean_age = data.Age.median()\n",
    "    data.Age = data.Age.fillna(mean_age)\n",
    "\n",
    "    mean_fare = data.Fare.median()\n",
    "    data.Fare = data.Fare.fillna(mean_fare)\n",
    "\n",
    "    # feature combining\n",
    "    data['Family_size'] = data.Parch + data.SibSp\n",
    "    data = data.drop(['Parch', 'SibSp'], axis=1)\n",
    "    \n",
    "    # drop useless and distracting features\n",
    "    data = data.drop(['Embarked_Q', 'Pclass_2'], axis=1)\n",
    "    return data\n",
    "\n",
    "\n",
    "df_train = manipulate_data(df_train)\n",
    "df_train.info()\n",
    "df_train.head()\n",
    "\n",
    "print('\\n')\n",
    "df_test = manipulate_data(df_test)\n",
    "df_test.info()\n",
    "df_train.head()"
   ]
  },
  {
   "cell_type": "code",
   "execution_count": 5,
   "metadata": {},
   "outputs": [
    {
     "name": "stdout",
     "output_type": "stream",
     "text": [
      "(800, 6) (800,) (91, 6) (91,)\n",
      "\n",
      " [[44.      7.925   1.      1.      1.      0.    ]\n",
      " [28.      7.75    1.      0.      1.      0.    ]\n",
      " [28.      7.75    1.      0.      1.      0.    ]\n",
      " ...\n",
      " [ 2.     21.075   1.      1.      1.      4.    ]\n",
      " [38.      7.8958  1.      1.      1.      0.    ]\n",
      " [25.      7.25    1.      1.      1.      0.    ]]\n",
      "\n",
      " (418, 6)\n",
      "\n",
      " [[34.5     7.8292  1.      0.      1.      0.    ]\n",
      " [47.      7.      1.      1.      0.      1.    ]\n",
      " [62.      9.6875  0.      0.      1.      0.    ]\n",
      " ...\n",
      " [38.5     7.25    1.      1.      1.      0.    ]\n",
      " [27.      8.05    1.      1.      1.      0.    ]\n",
      " [27.     22.3583  1.      0.      1.      2.    ]]\n"
     ]
    }
   ],
   "source": [
    "value = df_train.values\n",
    "np.random.shuffle(value)\n",
    "X = value[:, 1:]\n",
    "X_sc = scaling(X)\n",
    "y = value[:, 0]\n",
    "y_train = value[:800, 0]\n",
    "y_val = value[800:, 0]\n",
    "\n",
    "X_train = X[:800]\n",
    "X_train_sc = scaling(X_train)\n",
    "X_val = X[800:]\n",
    "X_val_sc = scaling(X_val)\n",
    "print(X_train.shape, y_train.shape, X_val.shape, y_val.shape)\n",
    "print('\\n',X)\n",
    "\n",
    "X_test = df_test.values\n",
    "X_test_sc = scaling(X_test)\n",
    "print('\\n', X_test.shape)\n",
    "print('\\n',X_test)"
   ]
  },
  {
   "cell_type": "code",
   "execution_count": 6,
   "metadata": {},
   "outputs": [
    {
     "name": "stdout",
     "output_type": "stream",
     "text": [
      "[[49  3]\n",
      " [15 24]]\n",
      "             precision    recall  f1-score   support\n",
      "\n",
      "        0.0       0.77      0.94      0.84        52\n",
      "        1.0       0.89      0.62      0.73        39\n",
      "\n",
      "avg / total       0.82      0.80      0.79        91\n",
      "\n",
      "validation score:  0.8021978021978022\n"
     ]
    }
   ],
   "source": [
    "# naive bayes\n",
    "from sklearn.naive_bayes import GaussianNB\n",
    "gnb = GaussianNB()\n",
    "gnb.fit(X_train, y_train)\n",
    "pred_gnb = gnb.predict(X_val)\n",
    "print(confusion_matrix(y_val, pred_gnb))\n",
    "print(classification_report(y_val, pred_gnb))\n",
    "print('validation score: ', accuracy_score(y_val, pred_gnb))\n"
   ]
  },
  {
   "cell_type": "code",
   "execution_count": 7,
   "metadata": {
    "scrolled": false
   },
   "outputs": [
    {
     "name": "stdout",
     "output_type": "stream",
     "text": [
      "[[50  2]\n",
      " [16 23]]\n",
      "             precision    recall  f1-score   support\n",
      "\n",
      "        0.0       0.76      0.96      0.85        52\n",
      "        1.0       0.92      0.59      0.72        39\n",
      "\n",
      "avg / total       0.83      0.80      0.79        91\n",
      "\n",
      "validation score:  0.8021978021978022\n"
     ]
    }
   ],
   "source": [
    "#logistic regression\n",
    "from sklearn.linear_model import LogisticRegression\n",
    "logreg = LogisticRegression()\n",
    "logreg.fit(X_train,y_train)\n",
    "pred_logreg = logreg.predict(X_val)\n",
    "print(confusion_matrix(y_val, pred_logreg))\n",
    "print(classification_report(y_val, pred_logreg))\n",
    "print('validation score: ', accuracy_score(y_val, pred_logreg))\n",
    "\n",
    "# retrain with all data and output\n",
    "logreg.fit(X, y)\n",
    "predict_y = logreg.predict(X_test)\n",
    "\n",
    "result = pd.Series(predict_y, np.arange(418)+ 892, dtype=int, name='Survived')\n",
    "result.to_csv('log_result.csv', index_label='PassengerId',header=True)\n"
   ]
  },
  {
   "cell_type": "code",
   "execution_count": 8,
   "metadata": {
    "scrolled": true
   },
   "outputs": [
    {
     "name": "stdout",
     "output_type": "stream",
     "text": [
      "[[49  3]\n",
      " [17 22]]\n",
      "             precision    recall  f1-score   support\n",
      "\n",
      "        0.0       0.74      0.94      0.83        52\n",
      "        1.0       0.88      0.56      0.69        39\n",
      "\n",
      "avg / total       0.80      0.78      0.77        91\n",
      "\n",
      "validation score:  0.7802197802197802\n",
      "[186 178]\n"
     ]
    }
   ],
   "source": [
    "# svm\n",
    "from sklearn.svm import SVC\n",
    "svc = SVC(C = 10)#, gamma = 0.01, probability=True)\n",
    "svc.fit(X_train_sc, y_train)\n",
    "pred_svc = svc.predict(X_val_sc)\n",
    "print(confusion_matrix(y_val, pred_svc))\n",
    "print(classification_report(y_val, pred_svc))\n",
    "print('validation score: ', accuracy_score(y_val, pred_svc))\n",
    "\n",
    "# retrain with all data and output\n",
    "svc.fit(X_sc, y)\n",
    "predict_y = svc.predict(X_test_sc)\n",
    "print(svc.n_support_)\n",
    "result = pd.Series(predict_y, np.arange(418)+ 892, dtype=int, name='Survived')\n",
    "result.to_csv('svc_result.csv', index_label='PassengerId',header=True)\n"
   ]
  },
  {
   "cell_type": "code",
   "execution_count": 11,
   "metadata": {},
   "outputs": [
    {
     "name": "stdout",
     "output_type": "stream",
     "text": [
      "Index(['Age', 'Fare', 'Pclass_3', 'Embarked_S', 'Sex_male', 'Family_size'], dtype='object')\n",
      "[0.11288848 0.18903907 0.131399   0.02521377 0.46223414 0.07922554]\n",
      "[[49  3]\n",
      " [17 22]]\n",
      "             precision    recall  f1-score   support\n",
      "\n",
      "        0.0       0.74      0.94      0.83        52\n",
      "        1.0       0.88      0.56      0.69        39\n",
      "\n",
      "avg / total       0.80      0.78      0.77        91\n",
      "\n",
      "validation score:  0.7912087912087912\n"
     ]
    }
   ],
   "source": [
    "# RF\n",
    "from sklearn.ensemble import RandomForestClassifier\n",
    "rfc = RandomForestClassifier(n_estimators=100, max_depth=5)\n",
    "\n",
    "rfc.fit(X_train, y_train)\n",
    "print(df_train.drop('Survived', axis=1).columns)\n",
    "print(rfc.feature_importances_)\n",
    "\n",
    "score_val = rfc.score(X_val, y_val)\n",
    "print(confusion_matrix(y_val, pred_svc))\n",
    "print(classification_report(y_val, pred_svc))\n",
    "print('validation score: ', score_val)\n",
    "\n",
    "# retrain with all data and output\n",
    "rfc.fit(X, y)\n",
    "predict_y = rfc.predict(X_test)\n",
    "\n",
    "result = pd.Series(predict_y, np.arange(418)+ 892, dtype=int, name='Survived')\n",
    "result.to_csv('RF_result.csv', index_label='PassengerId',header=True)\n"
   ]
  },
  {
   "cell_type": "code",
   "execution_count": 10,
   "metadata": {
    "scrolled": true
   },
   "outputs": [
    {
     "name": "stdout",
     "output_type": "stream",
     "text": [
      "\n",
      "sfc:\n",
      " [0.81111111 0.83333333 0.79775281 0.8988764  0.85393258 0.84269663\n",
      " 0.87640449 0.75280899 0.84269663 0.80681818]\n",
      "0.8316431165588469\n",
      "\n",
      "rfc:\n",
      " [0.85555556 0.81111111 0.80898876 0.91011236 0.80898876 0.84269663\n",
      " 0.86516854 0.78651685 0.84269663 0.80681818]\n",
      "0.833865338781069\n"
     ]
    }
   ],
   "source": [
    "from sklearn.model_selection import cross_val_score\n",
    "scores_svc = cross_val_score(svc, X_sc, y, cv=10, scoring='accuracy')\n",
    "print('\\nsfc:\\n', scores_svc)\n",
    "print(scores_svc.mean())\n",
    "scores_rfc = cross_val_score(rfc, X, y, cv=10, scoring='accuracy')\n",
    "print('\\nrfc:\\n', scores_rfc)\n",
    "print(scores_rfc.mean())"
   ]
  },
  {
   "cell_type": "code",
   "execution_count": null,
   "metadata": {},
   "outputs": [],
   "source": []
  }
 ],
 "metadata": {
  "kernelspec": {
   "display_name": "Python 3",
   "language": "python",
   "name": "python3"
  },
  "language_info": {
   "codemirror_mode": {
    "name": "ipython",
    "version": 3
   },
   "file_extension": ".py",
   "mimetype": "text/x-python",
   "name": "python",
   "nbconvert_exporter": "python",
   "pygments_lexer": "ipython3",
   "version": "3.6.4"
  }
 },
 "nbformat": 4,
 "nbformat_minor": 2
}
